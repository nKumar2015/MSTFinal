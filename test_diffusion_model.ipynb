{
 "cells": [
  {
   "cell_type": "code",
   "execution_count": 1,
   "metadata": {},
   "outputs": [
    {
     "name": "stderr",
     "output_type": "stream",
     "text": [
      "/opt/anaconda3/envs/metal/lib/python3.9/site-packages/tqdm/auto.py:21: TqdmWarning: IProgress not found. Please update jupyter and ipywidgets. See https://ipywidgets.readthedocs.io/en/stable/user_install.html\n",
      "  from .autonotebook import tqdm as notebook_tqdm\n"
     ]
    }
   ],
   "source": [
    "from audio_encoder import AudioEncoder\n",
    "from audio_diffusion import AudioDiffusion\n",
    "from audio_pipline import AudioDiffusionPipeline\n",
    "import torch\n",
    "from IPython.display import Audio\n",
    "\n",
    "device = \"cuda\" if torch.cuda.is_available() else \"cpu\"\n",
    "generator = torch.Generator(device=device)\n",
    "\n",
    "audio_encoder = AudioEncoder.from_pretrained(\"teticio/audio-encoder\")"
   ]
  },
  {
   "cell_type": "code",
   "execution_count": 2,
   "metadata": {},
   "outputs": [
    {
     "name": "stdin",
     "output_type": "stream",
     "text": [
      "Search:  chopin\n"
     ]
    },
    {
     "name": "stdout",
     "output_type": "stream",
     "text": [
      "1. Frédéric Chopin - Nocturne Op. 9 No. 2\n",
      "2. Frédéric Chopin - Chopin: Nocturne No. 20 in C-Sharp Minor, Op. Posth.\n",
      "3. Frédéric Chopin - Ballade No. 1 in G Minor, Op. 23\n",
      "4. Frédéric Chopin - Chopin: 24 Preludes, Op. 28: No. 4 in E Minor\n",
      "5. Frédéric Chopin - Prélude in E minor, Op. 28, No. 4\n",
      "6. Frédéric Chopin - Chopin: 24 Preludes, Op. 28: No. 4 in E Minor\n",
      "7. Frédéric Chopin - Barcarolle in F-Sharp Major, Op. 60\n",
      "8. Frédéric Chopin - Chopin: 24 Preludes, Op. 28: No. 9 in E Major\n",
      "9. Frédéric Chopin - Chopin: Nocturne No. 13 in C Minor, Op. 48 No. 1\n",
      "10. Frédéric Chopin - Fantasie-impromptu in C-Sharp Minor, Op. 66 No. 4\n",
      "11. Frédéric Chopin - Chopin: Waltz No. 13 in D-Flat Major, Op. Posth. 70 No. 3\n",
      "12. Frédéric Chopin - Chopin: Nocturne No. 2 in E-Flat Major, Op. 9 No. 2\n",
      "13. Frédéric Chopin - Etude Op. 25 : No. 11 in A Minor\n",
      "14. Frédéric Chopin - Chopin: 24 Preludes, Op. 28: No. 2 in A Minor\n",
      "15. Frédéric Chopin - Chopin: Nocturne No. 2 in E-Flat Major, Op. 9 No. 2\n",
      "16. Frédéric Chopin - Waltz in C-sharp minor, Op. 64 No. 2\n",
      "17. Frédéric Chopin - Chopin: Waltz No. 9 in A-Flat Major, Op. Posth. 69 No. 1 \"Farewell\"\n",
      "18. Frédéric Chopin - Chopin: Nocturne No. 1 in B-Flat Minor, Op. 9 No. 1\n",
      "19. Frédéric Chopin - Nocturnes, Op. 9: No. 1 in B-Flat Minor\n",
      "20. Frédéric Chopin - Chopin: 24 Preludes, Op. 28: No. 15 in D-Flat Major \"Raindrop\"\n"
     ]
    },
    {
     "name": "stdin",
     "output_type": "stream",
     "text": [
      "Select a track:  1\n"
     ]
    }
   ],
   "source": [
    "import urllib\n",
    "import requests\n",
    "import os\n",
    "\n",
    "# Get temporary API credentials\n",
    "credentials = requests.get(\n",
    "    \"https://open.spotify.com/get_access_token?reason=transport&productType=embed\"\n",
    ").json()\n",
    "headers = {\n",
    "    \"Accept\": \"application/json\",\n",
    "    \"Content-Type\": \"application/json\",\n",
    "    \"Authorization\": \"Bearer \" + credentials[\"accessToken\"]\n",
    "}\n",
    "\n",
    "# Search for tracks\n",
    "search_string = input(\"Search: \")\n",
    "response = requests.get(\n",
    "    f\"https://api.spotify.com/v1/search?q={urllib.parse.quote(search_string)}&type=track\",\n",
    "    headers=headers).json()\n",
    "\n",
    "# List results\n",
    "for _, track in enumerate(response[\"tracks\"][\"items\"]):\n",
    "    print(f\"{_ + 1}. {track['artists'][0]['name']} - {track['name']}\")\n",
    "selection = input(\"Select a track: \")\n",
    "\n",
    "# Download and encode selection\n",
    "r = requests.get(response[\"tracks\"][\"items\"][int(selection) -\n",
    "                                             1][\"preview_url\"],\n",
    "                 stream=True)\n",
    "with open(\"temp.mp3\", \"wb\") as f:\n",
    "    for chunk in r:\n",
    "        f.write(chunk)\n",
    "encoding = torch.unsqueeze(audio_encoder.encode([\"temp.mp3\"]),\n",
    "                           axis=1).to(device)\n",
    "\n",
    "os.remove(\"temp.mp3\")"
   ]
  },
  {
   "cell_type": "code",
   "execution_count": null,
   "metadata": {},
   "outputs": [
    {
     "name": "stderr",
     "output_type": "stream",
     "text": [
      "Keyword arguments {'trust_remote_code': True} are not expected by AudioDiffusionPipeline and will be ignored.\n",
      "Loading pipeline components...: 100%|██████████| 3/3 [00:00<00:00, 35.79it/s]\n",
      "  0%|          | 0/1000 [00:00<?, ?it/s]"
     ]
    }
   ],
   "source": [
    "audio_diffusion = AudioDiffusion(model_id=\"Nkumar5/CAGHiphop\", trust_remote_code=True)\n",
    "\n",
    "generator.manual_seed(42)\n",
    "\n",
    "image, (sample_rate, audio) = audio_diffusion.generate_spectrogram_and_audio(\n",
    "    generator=generator, encoding=encoding)\n",
    "\n",
    "display(image)\n",
    "display(Audio(audio, rate=sample_rate))"
   ]
  },
  {
   "cell_type": "code",
   "execution_count": null,
   "metadata": {},
   "outputs": [],
   "source": []
  }
 ],
 "metadata": {
  "kernelspec": {
   "display_name": "Python 3 (ipykernel)",
   "language": "python",
   "name": "python3"
  },
  "language_info": {
   "codemirror_mode": {
    "name": "ipython",
    "version": 3
   },
   "file_extension": ".py",
   "mimetype": "text/x-python",
   "name": "python",
   "nbconvert_exporter": "python",
   "pygments_lexer": "ipython3",
   "version": "3.9.18"
  }
 },
 "nbformat": 4,
 "nbformat_minor": 4
}
